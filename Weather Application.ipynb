{
 "cells": [
  {
   "cell_type": "markdown",
   "id": "62d89795",
   "metadata": {},
   "source": [
    "# Weather Application with Python"
   ]
  },
  {
   "cell_type": "code",
   "execution_count": 1,
   "id": "9867a99b",
   "metadata": {},
   "outputs": [
    {
     "name": "stdout",
     "output_type": "stream",
     "text": [
      "Enter city: Indore\n"
     ]
    }
   ],
   "source": [
    "import requests\n",
    "\n",
    "api_key = 'dd05db1f79517eb4932117c02a5453f5'\n",
    "\n",
    "user_input = input(\"Enter city: \")"
   ]
  },
  {
   "cell_type": "code",
   "execution_count": 2,
   "id": "852030d9",
   "metadata": {},
   "outputs": [
    {
     "name": "stdout",
     "output_type": "stream",
     "text": [
      "The weather in Indore is: Clouds\n",
      "The temperature in Indore is: 99ºF\n"
     ]
    }
   ],
   "source": [
    "weather_data = requests.get(\n",
    "    f\"https://api.openweathermap.org/data/2.5/weather?q={user_input}&units=imperial&APPID={api_key}\")\n",
    "\n",
    "if weather_data.json()['cod'] == '404':\n",
    "    print(\"No City Found\")\n",
    "else:\n",
    "    weather = weather_data.json()['weather'][0]['main']\n",
    "    temp = round(weather_data.json()['main']['temp'])\n",
    "\n",
    "    print(f\"The weather in {user_input} is: {weather}\")\n",
    "    print(f\"The temperature in {user_input} is: {temp}ºF\")"
   ]
  }
 ],
 "metadata": {
  "kernelspec": {
   "display_name": "Python 3 (ipykernel)",
   "language": "python",
   "name": "python3"
  },
  "language_info": {
   "codemirror_mode": {
    "name": "ipython",
    "version": 3
   },
   "file_extension": ".py",
   "mimetype": "text/x-python",
   "name": "python",
   "nbconvert_exporter": "python",
   "pygments_lexer": "ipython3",
   "version": "3.9.12"
  }
 },
 "nbformat": 4,
 "nbformat_minor": 5
}
